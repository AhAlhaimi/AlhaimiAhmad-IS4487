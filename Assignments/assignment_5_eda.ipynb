{
  "nbformat": 4,
  "nbformat_minor": 0,
  "metadata": {
    "colab": {
      "provenance": []
    },
    "kernelspec": {
      "name": "python3",
      "display_name": "Python 3"
    },
    "language_info": {
      "name": "python"
    }
  },
  "cells": [
    {
      "cell_type": "markdown",
      "source": [
        "# IS 4487 Assignment 5: Exploratory Data Analysis (EDA) with Stakeholder Framing\n",
        "\n",
        "In this assignment, you will:\n",
        "- Load and explore a hotel bookings dataset\n",
        "- Identify stakeholder needs and frame your analysis around business goals\n",
        "- Practice data summarization and visualization\n",
        "- Draw insights that could lead to actionable business recommendations\n",
        "\n",
        "## Why This Matters\n",
        "\n",
        "These skills are essential for business majors and minors working in areas like marketing, operations, finance, or consulting. Understanding how to explore and communicate data-driven insights helps you make better decisions and contribute to real-world business outcomes.\n",
        "\n",
        "<a href=\"https://colab.research.google.com/github/vandanara/UofUtah_IS4487/blob/main/Assignments/assignment_5_eda.ipynb\" target=\"_parent\">\n",
        "  <img src=\"https://colab.research.google.com/assets/colab-badge.svg\" alt=\"Open In Colab\"/>\n",
        "</a>\n"
      ],
      "metadata": {
        "id": "hNSUwN48JnW8"
      }
    },
    {
      "cell_type": "markdown",
      "source": [
        "## Dataset Description: Hotel Bookings\n",
        "\n",
        "This dataset contains booking information for two types of hotels: a **city hotel** and a **resort hotel**. Each record corresponds to a single booking and includes various details about the reservation, customer demographics, booking source, and whether the booking was canceled.\n",
        "\n",
        "**Source**: [GitHub - TidyTuesday: Hotel Bookings](https://github.com/rfordatascience/tidytuesday/blob/master/data/2020/2020-02-11/readme.md)\n",
        "\n",
        "### Key Use Cases\n",
        "- Understand customer booking behavior\n",
        "- Explore factors related to cancellations\n",
        "- Segment guests based on booking characteristics\n",
        "- Compare city vs. resort hotel performance\n",
        "\n",
        "### Data Dictionary\n",
        "\n",
        "| Variable | Type | Description |\n",
        "|----------|------|-------------|\n",
        "| `hotel` | character | Hotel type: City or Resort |\n",
        "| `is_canceled` | integer | 1 = Canceled, 0 = Not Canceled |\n",
        "| `lead_time` | integer | Days between booking and arrival |\n",
        "| `arrival_date_year` | integer | Year of arrival |\n",
        "| `arrival_date_month` | character | Month of arrival |\n",
        "| `stays_in_weekend_nights` | integer | Nights stayed on weekends |\n",
        "| `stays_in_week_nights` | integer | Nights stayed on weekdays |\n",
        "| `adults` | integer | Number of adults |\n",
        "| `children` | integer | Number of children |\n",
        "| `babies` | integer | Number of babies |\n",
        "| `meal` | character | Type of meal booked |\n",
        "| `country` | character | Country code of origin |\n",
        "| `market_segment` | character | Booking source (e.g., Direct, Online TA) |\n",
        "| `distribution_channel` | character | Booking channel used |\n",
        "| `is_repeated_guest` | integer | 1 = Repeated guest, 0 = New guest |\n",
        "| `previous_cancellations` | integer | Past booking cancellations |\n",
        "| `previous_bookings_not_canceled` | integer | Past bookings not canceled |\n",
        "| `reserved_room_type` | character | Initially reserved room type |\n",
        "| `assigned_room_type` | character | Room type assigned at check-in |\n",
        "| `booking_changes` | integer | Number of booking modifications |\n",
        "| `deposit_type` | character | Deposit type (No Deposit, Non-Refund, etc.) |\n",
        "| `agent` | character | Agent ID who made the booking |\n",
        "| `company` | character | Company ID (if booking through company) |\n",
        "| `days_in_waiting_list` | integer | Days on the waiting list |\n",
        "| `customer_type` | character | Booking type: Contract, Transient, etc. |\n",
        "| `adr` | float | Average Daily Rate (price per night) |\n",
        "| `required_car_parking_spaces` | integer | Requested parking spots |\n",
        "| `total_of_special_requests` | integer | Number of special requests made |\n",
        "| `reservation_status` | character | Final status (Canceled, No-Show, Check-Out) |\n",
        "| `reservation_status_date` | date | Date of the last status update |\n",
        "\n",
        "This dataset is ideal for classification, segmentation, and trend analysis exercises.\n"
      ],
      "metadata": {
        "id": "ZOaYcWfhKbDZ"
      }
    },
    {
      "cell_type": "markdown",
      "source": [
        "## 1. Setup and Data Loading\n",
        "\n",
        "Instructions:\n",
        "- Import `pandas`, `seaborn`, and `matplotlib.pyplot`.\n",
        "- Load the dataset from this URL:\n",
        "  https://raw.githubusercontent.com/vandanara/UofUtah_IS4487/refs/heads/main/DataSets/hotels.csv\n",
        "- Display the first few rows to confirm it loaded correctly.\n"
      ],
      "metadata": {
        "id": "WZ7KsaQJLnbT"
      }
    },
    {
      "cell_type": "code",
      "execution_count": 12,
      "metadata": {
        "id": "_jCm3A-qJIaS",
        "colab": {
          "base_uri": "https://localhost:8080/"
        },
        "outputId": "24561a61-9848-4fe4-b242-3553d415ab92"
      },
      "outputs": [
        {
          "output_type": "execute_result",
          "data": {
            "text/plain": [
              "(119390, 32)"
            ]
          },
          "metadata": {},
          "execution_count": 12
        }
      ],
      "source": [
        "# Your code to import libraries and load data goes here\n",
        "import pandas as pd\n",
        "import seaborn as sns\n",
        "import matplotlib.pyplot as plt\n",
        "\n",
        "# view first few lines of the data\n",
        "url = \"https://raw.githubusercontent.com/vandanara/UofUtah_IS4487/refs/heads/main/DataSets/hotels.csv\"\n",
        "df = pd.read_csv(url)\n",
        "df['is_canceled'].value_counts()\n",
        "df.shape"
      ]
    },
    {
      "cell_type": "markdown",
      "source": [
        "## 2. Stakeholder and Business Context\n",
        "\n",
        "Business framing:  \n",
        "\n",
        "Every analysis should serve a decision-maker. Before you explore the data, identify who cares about hotel booking behavior and what they might want to know. Your analysis should be framed around those needs.\n",
        "\n",
        "### In your markdown:\n",
        "1. Who are the key stakeholders for this dataset?\n",
        "2. What goals might each stakeholder have?\n",
        "3. What is a clear, specific business problem statement that this data can help answer?\n",
        "\n",
        "\n",
        "\n"
      ],
      "metadata": {
        "id": "tmbrFsXULtQR"
      }
    },
    {
      "cell_type": "markdown",
      "source": [
        "### ✍️ Your Response:\n",
        "1. Hotel Management, Marketing & Operation Teams, and Guests\n",
        "\n",
        "2.  - Management: Increase profitability, reduce cancellations, and improve guest satisfaction.\n",
        "    - Marketing & Operation: Identify target segments, design effective campaigns, and maximize booking conversion.\n",
        "    - Guests: Experience better value, smoother service, and more personalized offers.\n",
        "\n",
        "3. The dataset can certainly help identify the 37% cancellation rate among the listed hotels in this dataset. Roughly, 44224 cancellation occured. This allows management to understand booking behavior to improve forecasts, optimize pricing, and improve guest satisfaction\n",
        "\n"
      ],
      "metadata": {
        "id": "t0EOW268L27U"
      }
    },
    {
      "cell_type": "markdown",
      "source": [
        "## 3. Explore Data Structure and Quality\n",
        "\n",
        "Business framing:  \n",
        "\n",
        "Before diving into analysis, analysts need to understand the shape and health of the data. Bad data leads to bad decisions.\n",
        "\n",
        "- Use at least 3 techniques to examine structure and quality:\n",
        "  - Summary info (e.g., `.info()`, `.describe()`)\n",
        "  - missing/null value checks\n",
        "  - Duplicate row checks\n",
        "   - outliers\n",
        "- Flag any issues you notice (e.g., missing values, formatting problems)\n",
        "\n",
        "### In your markdown:\n",
        "1. What structural issues or problems did you find?\n",
        "2. What actions would you recommend to clean or prepare this dataset for use?\n",
        "\n"
      ],
      "metadata": {
        "id": "FGVxWLdrMGab"
      }
    },
    {
      "cell_type": "code",
      "source": [
        "# Add your code here\n",
        "df.info()\n",
        "df.describe()\n",
        "df.isnull().sum()\n",
        "df.duplicated().sum()\n",
        "Q1 = df['is_canceled'].quantile(0.25)\n",
        "Q3 = df['is_canceled'].quantile(0.75)\n",
        "IQR = Q3 - Q1\n",
        "outliers = df[(df['is_canceled'] < Q1 - 1.5 * IQR) | (df['is_canceled'] > Q3 + 1.5 * IQR)]\n",
        "print(f\"\\nNumber of outliers in 'is_canceled' is: {len(outliers)}\")\n",
        "df.duplicated().sum()\n"
      ],
      "metadata": {
        "id": "vIVmcwjWMB1M",
        "colab": {
          "base_uri": "https://localhost:8080/"
        },
        "outputId": "91424e09-55a2-42a9-8d43-8c84fee8794a"
      },
      "execution_count": 22,
      "outputs": [
        {
          "output_type": "stream",
          "name": "stdout",
          "text": [
            "<class 'pandas.core.frame.DataFrame'>\n",
            "RangeIndex: 119390 entries, 0 to 119389\n",
            "Data columns (total 32 columns):\n",
            " #   Column                          Non-Null Count   Dtype  \n",
            "---  ------                          --------------   -----  \n",
            " 0   hotel                           119390 non-null  object \n",
            " 1   is_canceled                     119390 non-null  int64  \n",
            " 2   lead_time                       119390 non-null  int64  \n",
            " 3   arrival_date_year               119390 non-null  int64  \n",
            " 4   arrival_date_month              119390 non-null  object \n",
            " 5   arrival_date_week_number        119390 non-null  int64  \n",
            " 6   arrival_date_day_of_month       119390 non-null  int64  \n",
            " 7   stays_in_weekend_nights         119390 non-null  int64  \n",
            " 8   stays_in_week_nights            119390 non-null  int64  \n",
            " 9   adults                          119390 non-null  int64  \n",
            " 10  children                        119386 non-null  float64\n",
            " 11  babies                          119390 non-null  int64  \n",
            " 12  meal                            119390 non-null  object \n",
            " 13  country                         118902 non-null  object \n",
            " 14  market_segment                  119390 non-null  object \n",
            " 15  distribution_channel            119390 non-null  object \n",
            " 16  is_repeated_guest               119390 non-null  int64  \n",
            " 17  previous_cancellations          119390 non-null  int64  \n",
            " 18  previous_bookings_not_canceled  119390 non-null  int64  \n",
            " 19  reserved_room_type              119390 non-null  object \n",
            " 20  assigned_room_type              119390 non-null  object \n",
            " 21  booking_changes                 119390 non-null  int64  \n",
            " 22  deposit_type                    119390 non-null  object \n",
            " 23  agent                           103050 non-null  float64\n",
            " 24  company                         6797 non-null    float64\n",
            " 25  days_in_waiting_list            119390 non-null  int64  \n",
            " 26  customer_type                   119390 non-null  object \n",
            " 27  adr                             119390 non-null  float64\n",
            " 28  required_car_parking_spaces     119390 non-null  int64  \n",
            " 29  total_of_special_requests       119390 non-null  int64  \n",
            " 30  reservation_status              119390 non-null  object \n",
            " 31  reservation_status_date         119390 non-null  object \n",
            "dtypes: float64(4), int64(16), object(12)\n",
            "memory usage: 29.1+ MB\n",
            "\n",
            "Number of outliers in 'is_canceled' is: 0\n"
          ]
        },
        {
          "output_type": "execute_result",
          "data": {
            "text/plain": [
              "np.int64(31994)"
            ]
          },
          "metadata": {},
          "execution_count": 22
        }
      ]
    },
    {
      "cell_type": "markdown",
      "source": [
        "### ✍️ Your Response:\n",
        "1. - '*is_canceled*' is stored as an int64, but it only takes values 0 (not canceled) and 1 (canceled), making it a binary categorical variable\n",
        "    - There's missing values as shown in *df.info()* specifically in columns *company*, *agent*, and *children*\n",
        "    - As shown by *df.duplicated().sum()* there seems to be 31994 duplicated records\n",
        "2. - convert objects fields to categorical dtypes ie (hotel, is_canceled)\n",
        "    - handle missing values as shown above\n",
        "    - get rid of the outliers as shown by the IQR method\n",
        "    - get rid of the duplicate\n"
      ],
      "metadata": {
        "id": "X33CtEIQMK4H"
      }
    },
    {
      "cell_type": "markdown",
      "source": [
        "## 4. Univariate Analysis\n",
        "\n",
        "Business framing:  \n",
        "\n",
        "Hotels care about trends like average stay length, customer mix, and pricing. A good EDA starts with understanding single variables and their distribution.\n",
        "\n",
        "- Select at least 3 individual variables to explore\n",
        "- Use plots and summaries to describe the distribution\n",
        "- Focus on what matters from a business standpoint (e.g., pricing, cancellations, guest types)\n",
        "\n",
        "### In your markdown:\n",
        "1. Variable 1 – What did you explore and what did you find?\n",
        "2. Variable 2 – What did you explore and what did you find?\n",
        "3. Variable 3 – What did you explore and what did you find?\n",
        "\n",
        "\n"
      ],
      "metadata": {
        "id": "Vf6kcDdyMRrA"
      }
    },
    {
      "cell_type": "code",
      "source": [
        "# Your code for univariate analysis (e.g., plots, value counts)\n",
        "sns.countplot(data=df, x='is_canceled')\n",
        "plt.title('Cancellation Count')\n",
        "plt.xlabel('Cancellation')\n",
        "plt.ylabel('Count')\n",
        "plt.show()"
      ],
      "metadata": {
        "id": "MZvpWpMaMU3z",
        "colab": {
          "base_uri": "https://localhost:8080/",
          "height": 472
        },
        "outputId": "9a74f149-14a4-4b24-cb67-69b684843161"
      },
      "execution_count": 27,
      "outputs": [
        {
          "output_type": "display_data",
          "data": {
            "text/plain": [
              "<Figure size 640x480 with 1 Axes>"
            ],
            "image/png": "[encoded data removed]"
          },
          "metadata": {}
        }
      ]
    },
    {
      "cell_type": "code",
      "source": [
        "plt.hist(df['lead_time'], bins=20)\n",
        "plt.xlabel('Lead Time')\n",
        "plt.ylabel('Frequency')\n",
        "plt.title('Lead Time Distribution')\n",
        "plt.show()"
      ],
      "metadata": {
        "colab": {
          "base_uri": "https://localhost:8080/",
          "height": 472
        },
        "id": "uJPGYYDCQKMx",
        "outputId": "7f2898e0-14f5-4005-bcea-b31c9cee2b17"
      },
      "execution_count": 28,
      "outputs": [
        {
          "output_type": "display_data",
          "data": {
            "text/plain": [
              "<Figure size 640x480 with 1 Axes>"
            ],
            "image/png": "[encoded data removed]"
          },
          "metadata": {}
        }
      ]
    },
    {
      "cell_type": "code",
      "source": [
        "plt.hist(df['stays_in_weekend_nights'], bins=20)\n",
        "plt.xlabel('Weekend Nights')\n",
        "plt.ylabel('Frequency')\n",
        "plt.title('Weekend Nights Distribution')\n",
        "plt.show()"
      ],
      "metadata": {
        "colab": {
          "base_uri": "https://localhost:8080/",
          "height": 472
        },
        "id": "JJmVX82KRao9",
        "outputId": "f985344f-d564-4119-8ea1-f5f95a15b0e8"
      },
      "execution_count": 30,
      "outputs": [
        {
          "output_type": "display_data",
          "data": {
            "text/plain": [
              "<Figure size 640x480 with 1 Axes>"
            ],
            "image/png": "[encoded data removed]"
          },
          "metadata": {}
        }
      ]
    },
    {
      "cell_type": "markdown",
      "source": [
        "### ✍️ Your Response:\n",
        "- **Variable 1 – Observing the Cancelation plot chart, there's a high number of cancelation hotels and resort have been experiencing, totaling almost 40%**\n",
        "- **Variable 2 – Most bookings are made within the first 50 days, with a steep drop-off afterward, showing that guests typically book close to their stay.**  \n",
        "- **Variable 3 – Most guests stay 1–2 weekend nights, with very few booking longer weekend stays, indicating that hotels mainly serve short trips**  \n"
      ],
      "metadata": {
        "id": "dx-xxfI7MXhp"
      }
    },
    {
      "cell_type": "markdown",
      "source": [],
      "metadata": {
        "id": "nLZGyLL8SKvK"
      }
    },
    {
      "cell_type": "markdown",
      "source": [
        "## 5. Bivariate Analysis\n",
        "\n",
        "Business framing:  \n",
        "\n",
        "Stakeholders often ask: “What drives cancellations?” or “Do longer stays mean higher revenue?” Bivariate analysis helps you uncover those kinds of relationships.\n",
        "\n",
        "- Choose 2 relevant variable pairs (e.g., `lead_time` vs. `is_canceled`, or `adr` vs. `customer_type`)\n",
        "- Use scatterplots, grouped bar plots, or boxplots to explore the relationships\n",
        "- Interpret what these relationships could mean for the hotel business\n",
        "\n",
        "### In your markdown:\n",
        "1. Relationship 1 – What did you analyze and what insights did you find?\n",
        "2. Relationship 2 – What did you analyze and what insights did you find?\n",
        "\n"
      ],
      "metadata": {
        "id": "FXSfNzxPMcf0"
      }
    },
    {
      "cell_type": "code",
      "source": [
        "# Your code to analyze variable relationships (e.g., scatterplots, grouped bars)\n",
        "sns.boxplot(x='is_canceled', y='lead_time', data=df)\n",
        "plt.title(\"Lead Time vs. Cancellations\")\n",
        "plt.xlabel(\"Is Canceled (0 = No, 1 = Yes)\")\n",
        "plt.ylabel(\"Lead Time (days)\")\n",
        "plt.show()\n",
        "\n"
      ],
      "metadata": {
        "id": "RV_taSMaMepQ",
        "colab": {
          "base_uri": "https://localhost:8080/",
          "height": 472
        },
        "outputId": "45ab97e3-d5cc-4086-e5c5-240620303a25"
      },
      "execution_count": 31,
      "outputs": [
        {
          "output_type": "display_data",
          "data": {
            "text/plain": [
              "<Figure size 640x480 with 1 Axes>"
            ],
            "image/png": "[encoded data removed]"
          },
          "metadata": {}
        }
      ]
    },
    {
      "cell_type": "markdown",
      "source": [
        "### ✍️ Your Response:\n",
        "- **Relationship 1:** Lead Time vs. Cancellations\n",
        "Longer lead times show higher cancellation risk, while short-term bookings are more reliable.\n",
        "\n",
        "- **Relationship 2:** ADR vs. Customer Type\n",
        "Transient guests pay higher rates than contract or group customers, guiding pricing by segment.\n",
        "\n"
      ],
      "metadata": {
        "id": "jizoFiN2Mgmk"
      }
    },
    {
      "cell_type": "markdown",
      "source": [
        "## 6. Problem Complexity and Analytics Framing\n",
        "\n",
        "Business framing:  \n",
        "\n",
        "Let’s say you found a strong trend — maybe high lead times predict cancellations, or certain channels bring repeat guests. What kind of problem is this?\n",
        "\n",
        "- Choose one insight from your earlier analysis\n",
        "- Reflect on:\n",
        "  - What type of complexity this problem represents (e.g., variety, volume, variability)\n",
        "  - What kind of analytics would help solve or explain it (descriptive, diagnostic, predictive, prescriptive)\n",
        "\n",
        "### In your markdown:\n",
        "1. What was your selected insight?\n",
        "2. What kind of complexity does it involve?\n",
        "3. What type of analytics would help, and why?\n",
        "\n"
      ],
      "metadata": {
        "id": "jfdpzE3yMkLQ"
      }
    },
    {
      "cell_type": "markdown",
      "source": [
        "### ✍️ Your Response:\n",
        "1. Longer lead times are more likely to get cancelled.\n",
        "2. This insight represents variation, as the customer actions change significantly based on when they make the booking.\n",
        "3. A predictive analytics approach would be most appropriate to capture this knowledge to aid decision making. By fitting a model to lead time (among other factors), hotels can estimate the probability of cancellation given a new booking. Hotel managers can take preventative measures.\n",
        "\n"
      ],
      "metadata": {
        "id": "pEeSGoyoMm1Z"
      }
    },
    {
      "cell_type": "markdown",
      "source": [
        "##7. Final Takeaways and Recommendations\n",
        "\n",
        "Business framing:  \n",
        "\n",
        "Imagine you’re preparing for a stakeholder meeting. What would you highlight from your findings?\n",
        "\n",
        "- Identify your top 2–3 insights or patterns\n",
        "- Connect each to a stakeholder need or business goal\n",
        "- Make one recommendation based on the analysis\n",
        "\n",
        "### In your markdown:\n",
        "1. What patterns or trends stood out?\n",
        "2. How do they connect to stakeholder goals?\n",
        "3. What recommendation would you make based on this analysis?\n",
        "4. How does this relate to your customized learning outcome you created in canvas?\n",
        "\n"
      ],
      "metadata": {
        "id": "dV4gRWvpMqa3"
      }
    },
    {
      "cell_type": "markdown",
      "source": [
        "### ✍️ Your Response:\n",
        "\n",
        "1. High cancellations with long lead times, meaning, customers booking far in advance are much more likely to cancel\n",
        "\n",
        "2. Pricing varies by customer type, transient guests tend to pay higher rates than contract or group customers.\n",
        "\n",
        "3. Most guests stay only 1–4 nights, indicating that short stays (both weekday and weekend) dominate hotel demand.\n",
        "\n",
        "4. For this assignment, I was able to gain further practice in the usage of EDA to identify business insights (i.e. influence of lead time on cancellations) and linking these to actual decisions made in the hotels. This assignment allowed me to retain most of what Lab 5 & Demo 5 taught me."
      ],
      "metadata": {
        "id": "bWRmqIUyPhGv"
      }
    },
    {
      "cell_type": "markdown",
      "source": [
        "## Submission Instructions\n",
        "\n",
        "✅ **Before submitting:**\n",
        "- Make sure all code cells are run and outputs are visible  \n",
        "- All markdown questions are answered thoughtfully  \n",
        "- Submit the assignment as an **HTML file** on Canvas\n"
      ],
      "metadata": {
        "id": "5IElVIHbNG7N"
      }
    },
    {
      "cell_type": "code",
      "source": [
        "!jupyter nbconvert --to html \"assignment_05_LastnameFirstname.ipynb\""
      ],
      "metadata": {
        "id": "7EO69Z6sOm9X",
        "colab": {
          "base_uri": "https://localhost:8080/"
        },
        "outputId": "1f192a86-ab50-4554-8e0c-fe036c981805"
      },
      "execution_count": 32,
      "outputs": [
        {
          "output_type": "stream",
          "name": "stdout",
          "text": [
            "[NbConvertApp] Converting notebook assignment_05_LastnameFirstname.ipynb to html\n",
            "[NbConvertApp] WARNING | Alternative text is missing on 4 image(s).\n",
            "[NbConvertApp] Writing 405258 bytes to assignment_05_LastnameFirstname.html\n"
          ]
        }
      ]
    }
  ]
}